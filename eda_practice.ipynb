{
  "nbformat": 4,
  "nbformat_minor": 0,
  "metadata": {
    "colab": {
      "provenance": [],
      "authorship_tag": "ABX9TyN28xkZdu1H3ZSklrcn3iU7",
      "include_colab_link": true
    },
    "kernelspec": {
      "name": "python3",
      "display_name": "Python 3"
    },
    "language_info": {
      "name": "python"
    }
  },
  "cells": [
    {
      "cell_type": "markdown",
      "metadata": {
        "id": "view-in-github",
        "colab_type": "text"
      },
      "source": [
        "<a href=\"https://colab.research.google.com/github/Funfunke/Dynamite/blob/main/eda_practice.ipynb\" target=\"_parent\"><img src=\"https://colab.research.google.com/assets/colab-badge.svg\" alt=\"Open In Colab\"/></a>"
      ]
    },
    {
      "cell_type": "code",
      "execution_count": null,
      "metadata": {
        "id": "Svxnxr2QWB9Y"
      },
      "outputs": [],
      "source": [
        "import numpy as np\n",
        "from scipy import stats"
      ]
    },
    {
      "cell_type": "code",
      "source": [
        "np.random.seed(50)\n",
        "Maths=np.random.randint(40,100,10)\n",
        "English=np.random.randint(45,99,10)\n",
        "print('Maths scores:', Maths)\n",
        "print('Englis scores:', English)"
      ],
      "metadata": {
        "colab": {
          "base_uri": "https://localhost:8080/"
        },
        "id": "Reddt8q0bhlY",
        "outputId": "3499a4c8-b1cd-4678-dac5-e8ab8067c7c4"
      },
      "execution_count": null,
      "outputs": [
        {
          "output_type": "stream",
          "name": "stdout",
          "text": [
            "Maths scores: [88 72 51 85 73 70 44 46 77 46]\n",
            "Englis scores: [67 90 50 47 76 52 92 49 59 80]\n"
          ]
        }
      ]
    },
    {
      "cell_type": "code",
      "source": [
        "# Question 1\n",
        "Maths_mean=np.mean(Maths)\n",
        "Maths_median=np.median(Maths)\n",
        "Maths_mode=stats.mode(Maths)\n",
        "Maths_STD=np.std(Maths)\n",
        "print('Maths Mean:', Maths_mean)\n",
        "print('Maths Median:', Maths_median)\n",
        "print('Maths Mode:', Maths_mode)\n",
        "print('Maths STD:', Maths_STD)"
      ],
      "metadata": {
        "colab": {
          "base_uri": "https://localhost:8080/"
        },
        "id": "RlJuzTjJeilM",
        "outputId": "b922f84d-0dc4-42b4-8297-bcbe5ac038a6"
      },
      "execution_count": null,
      "outputs": [
        {
          "output_type": "stream",
          "name": "stdout",
          "text": [
            "Maths Mean: 65.2\n",
            "Maths Median: 71.0\n",
            "Maths Mode: ModeResult(mode=46, count=2)\n",
            "Maths STD: 16.0299719276111\n"
          ]
        }
      ]
    },
    {
      "cell_type": "code",
      "source": [
        "English_mean=np.mean(English)\n",
        "English_median=np.median(English)\n",
        "English_mode=stats.mode(English)\n",
        "English_STD=np.std(English)\n",
        "print('English Mean:', English_mean)\n",
        "print('English Median:', English_median)\n",
        "print('English Mode:', English_mode)\n",
        "print('English STD:', English_STD)\n"
      ],
      "metadata": {
        "colab": {
          "base_uri": "https://localhost:8080/"
        },
        "id": "NVtpevQ2eq04",
        "outputId": "ca2702b8-57f5-4d68-8994-71519a945535"
      },
      "execution_count": null,
      "outputs": [
        {
          "output_type": "stream",
          "name": "stdout",
          "text": [
            "English Mean: 66.2\n",
            "English Median: 63.0\n",
            "English Mode: ModeResult(mode=47, count=1)\n",
            "English STD: 16.4304595188327\n"
          ]
        }
      ]
    },
    {
      "cell_type": "code",
      "source": [
        "#Question 2:\n",
        "import pandas as pd\n",
        "df=pd.DataFrame({'Maths':Maths, 'English':English})\n",
        "Q1=df[\"Maths\"].quantile(0.25)\n",
        "Q3=df[\"Maths\"].quantile(0.75)\n",
        "IQR=Q3-Q1\n",
        "print('Maths IQR:', IQR)\n",
        "\n",
        "lower_bound=Q1-1.5*IQR\n",
        "upper_bound=Q3+1.5*IQR\n",
        "print('Maths lower bound:', lower_bound)\n",
        "print('Maths upper bound:', upper_bound)\n",
        "\n",
        "outliers=df[(df['Maths']<lower_bound) | (df['Maths']>upper_bound)]\n",
        "print('Maths outliers:', outliers)\n",
        "\n",
        "cleaned_df=df[(df['Maths']>=lower_bound) & (df['Maths']<=upper_bound)]\n",
        "print('Maths cleaned data:', cleaned_df)"
      ],
      "metadata": {
        "id": "MQUpYM0vhXMr",
        "colab": {
          "base_uri": "https://localhost:8080/"
        },
        "outputId": "63663ff0-2fa8-4f5e-c3be-a90d2172f8d0"
      },
      "execution_count": null,
      "outputs": [
        {
          "output_type": "stream",
          "name": "stdout",
          "text": [
            "Maths IQR: 28.75\n",
            "Maths lower bound: 4.125\n",
            "Maths upper bound: 119.125\n",
            "Maths outliers: Empty DataFrame\n",
            "Columns: [Maths, English]\n",
            "Index: []\n",
            "Maths cleaned data:    Maths  English\n",
            "0     88       67\n",
            "1     72       90\n",
            "2     51       50\n",
            "3     85       47\n",
            "4     73       76\n",
            "5     70       52\n",
            "6     44       92\n",
            "7     46       49\n",
            "8     77       59\n",
            "9     46       80\n"
          ]
        }
      ]
    },
    {
      "cell_type": "code",
      "source": [
        "\n",
        "from scipy.stats import pearsonr\n",
        "#Question 3: what is the correlation between Maths and English scores.\n",
        "correlation=np.corrcoef(Maths,English)\n",
        "print('correlation between Maths and English:', correlation)\n",
        "\n",
        "correlation_coefficient=pearsonr(Maths,English)\n",
        "print('correlation coefficient between Maths and English:', correlation_coefficient)"
      ],
      "metadata": {
        "colab": {
          "base_uri": "https://localhost:8080/"
        },
        "id": "SMfr7uBY4mbT",
        "outputId": "0b25a668-69b7-48a4-98ac-d5fa978a77a4"
      },
      "execution_count": null,
      "outputs": [
        {
          "output_type": "stream",
          "name": "stdout",
          "text": [
            "correlation between Maths and English: [[ 1.         -0.20062282]\n",
            " [-0.20062282  1.        ]]\n",
            "correlation coefficient between Maths and English: PearsonRResult(statistic=-0.20062282311724322, pvalue=0.5783790826717982)\n"
          ]
        }
      ]
    },
    {
      "cell_type": "code",
      "source": [
        "# Using a box plot to identify outliers\n",
        "import seaborn as sns\n",
        "import matplotlib.pyplot as plt\n",
        "sns.boxplot(x=df['Maths'])\n",
        "plt.show()"
      ],
      "metadata": {
        "colab": {
          "base_uri": "https://localhost:8080/",
          "height": 449
        },
        "id": "hZNkg4a57Fo3",
        "outputId": "6c066121-34d8-4266-ce8d-bad0f55a2bbc"
      },
      "execution_count": null,
      "outputs": [
        {
          "output_type": "display_data",
          "data": {
            "text/plain": [
              "<Figure size 640x480 with 1 Axes>"
            ],
            "image/png": "[encoded data removed]"
          },
          "metadata": {}
        }
      ]
    },
    {
      "cell_type": "code",
      "source": [
        "# Question 4: How would you perform a hypothesis test to determine if the mean of maths score is greater than 80 using one sample T-Test?\n",
        "# step 1: Define your hypothesis\n",
        "# Null Hypothesis (H₀): The mean math score is less than or equal to 80\n",
        "#Alternative Hypothesis (H₁): The mean math score is greater than 80\n",
        "# step 2: check for assumptions such as normal distribution and data is continuous data\n",
        "#stp 3: perform the T-test using python.\n",
        "from scipy import stats\n",
        "t_statistic, p_value = stats.ttest_1samp(Maths, 80)\n",
        "if t_statistic > 0:\n",
        "    p_value /= 2\n",
        "print('t-statistic:', t_statistic)\n",
        "print('p-value:', p_value)\n"
      ],
      "metadata": {
        "colab": {
          "base_uri": "https://localhost:8080/"
        },
        "id": "f8C_A6UP6Ozn",
        "outputId": "ffe78f7e-e910-454c-e03f-5db03ee09903"
      },
      "execution_count": null,
      "outputs": [
        {
          "output_type": "stream",
          "name": "stdout",
          "text": [
            "t-statistic: -2.7698114632080206\n",
            "p-value: 0.021760215337893535\n"
          ]
        }
      ]
    },
    {
      "cell_type": "code",
      "source": [
        "import matplotlib.pyplot as plt\n",
        "plt.scatter(Maths,English)\n",
        "plt.xlabel('Maths')\n",
        "plt.ylabel('English')\n",
        "plt.show()"
      ],
      "metadata": {
        "colab": {
          "base_uri": "https://localhost:8080/",
          "height": 449
        },
        "id": "CmW92gVg_gHD",
        "outputId": "4cc6ee80-4148-4227-f8cf-9753667d3b96"
      },
      "execution_count": null,
      "outputs": [
        {
          "output_type": "display_data",
          "data": {
            "text/plain": [
              "<Figure size 640x480 with 1 Axes>"
            ],
            "image/png": "[encoded data removed]"
          },
          "metadata": {}
        }
      ]
    }
  ]
}